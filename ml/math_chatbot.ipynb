{
 "cells": [
  {
   "cell_type": "code",
   "execution_count": 1,
   "id": "e035ae05",
   "metadata": {},
   "outputs": [],
   "source": [
    "#pip install swifter"
   ]
  },
  {
   "cell_type": "code",
   "execution_count": 10,
   "id": "cac320f7",
   "metadata": {},
   "outputs": [],
   "source": [
    "from nltk.corpus import stopwords\n",
    "import nltk\n",
    "from nltk.stem import WordNetLemmatizer\n",
    "from nltk import word_tokenize\n",
    "import re\n",
    "\n",
    "from sklearn.preprocessing import FunctionTransformer\n",
    "from sklearn.base import BaseEstimator, TransformerMixin\n",
    "from sklearn.pipeline import FeatureUnion\n",
    "from sklearn.feature_extraction import DictVectorizer\n",
    "\n",
    "import json\n",
    "import os\n",
    "\n",
    "import pandas as  pd\n",
    "import spacy\n",
    "\n",
    "import seaborn as sns\n",
    "import string\n",
    "\n",
    "from tqdm import tqdm\n",
    "from textblob import TextBlob\n",
    "\n",
    "from sklearn.model_selection import train_test_split\n",
    "from sklearn.preprocessing import LabelEncoder\n",
    "from sklearn.feature_extraction.text import CountVectorizer\n",
    "from sklearn.feature_extraction.text import TfidfTransformer\n",
    "from sklearn.naive_bayes import MultinomialNB\n",
    "from sklearn.pipeline import Pipeline\n",
    "\n",
    "from sklearn.model_selection import train_test_split\n",
    "\n",
    "import swifter"
   ]
  },
  {
   "cell_type": "code",
   "execution_count": 4,
   "id": "3cc4f264",
   "metadata": {},
   "outputs": [],
   "source": [
    "data = pd.read_csv('mathChatbot.csv', encoding='latin-1')"
   ]
  },
  {
   "cell_type": "code",
   "execution_count": 5,
   "id": "ceedc680",
   "metadata": {},
   "outputs": [
    {
     "data": {
      "text/html": [
       "<div>\n",
       "<style scoped>\n",
       "    .dataframe tbody tr th:only-of-type {\n",
       "        vertical-align: middle;\n",
       "    }\n",
       "\n",
       "    .dataframe tbody tr th {\n",
       "        vertical-align: top;\n",
       "    }\n",
       "\n",
       "    .dataframe thead th {\n",
       "        text-align: right;\n",
       "    }\n",
       "</style>\n",
       "<table border=\"1\" class=\"dataframe\">\n",
       "  <thead>\n",
       "    <tr style=\"text-align: right;\">\n",
       "      <th></th>\n",
       "      <th>Question</th>\n",
       "      <th>Answer</th>\n",
       "      <th>Unnamed: 2</th>\n",
       "      <th>Unnamed: 3</th>\n",
       "      <th>Unnamed: 4</th>\n",
       "      <th>Unnamed: 5</th>\n",
       "      <th>Unnamed: 6</th>\n",
       "      <th>Unnamed: 7</th>\n",
       "    </tr>\n",
       "  </thead>\n",
       "  <tbody>\n",
       "    <tr>\n",
       "      <th>0</th>\n",
       "      <td>how do i add two numbers together?</td>\n",
       "      <td>to add two numbers together, you simply combin...</td>\n",
       "      <td>NaN</td>\n",
       "      <td>NaN</td>\n",
       "      <td>NaN</td>\n",
       "      <td>How do I add two numbers together?</td>\n",
       "      <td>NaN</td>\n",
       "      <td>To add two numbers together, you simply combin...</td>\n",
       "    </tr>\n",
       "    <tr>\n",
       "      <th>1</th>\n",
       "      <td>what is the difference between addition and su...</td>\n",
       "      <td>addition is the process of combining two or mo...</td>\n",
       "      <td>NaN</td>\n",
       "      <td>NaN</td>\n",
       "      <td>NaN</td>\n",
       "      <td>What is the difference between addition and su...</td>\n",
       "      <td>NaN</td>\n",
       "      <td>Addition is the process of combining two or mo...</td>\n",
       "    </tr>\n",
       "    <tr>\n",
       "      <th>2</th>\n",
       "      <td>what is the formula for finding the area of a ...</td>\n",
       "      <td>the formula for finding the area of a rectangl...</td>\n",
       "      <td>NaN</td>\n",
       "      <td>NaN</td>\n",
       "      <td>NaN</td>\n",
       "      <td>What is the formula for finding the area of a ...</td>\n",
       "      <td>NaN</td>\n",
       "      <td>The formula for finding the area of a rectangl...</td>\n",
       "    </tr>\n",
       "    <tr>\n",
       "      <th>3</th>\n",
       "      <td>how do i convert fractions to decimals?</td>\n",
       "      <td>to convert a fraction to a decimal, divide the...</td>\n",
       "      <td>NaN</td>\n",
       "      <td>NaN</td>\n",
       "      <td>NaN</td>\n",
       "      <td>How do I convert fractions to decimals?</td>\n",
       "      <td>NaN</td>\n",
       "      <td>To convert a fraction to a decimal, divide the...</td>\n",
       "    </tr>\n",
       "    <tr>\n",
       "      <th>4</th>\n",
       "      <td>what are prime numbers and how do i identify t...</td>\n",
       "      <td>prime numbers are numbers greater than 1 that ...</td>\n",
       "      <td>NaN</td>\n",
       "      <td>NaN</td>\n",
       "      <td>NaN</td>\n",
       "      <td>What are prime numbers and how do I identify t...</td>\n",
       "      <td>NaN</td>\n",
       "      <td>Prime numbers are numbers greater than 1 that ...</td>\n",
       "    </tr>\n",
       "    <tr>\n",
       "      <th>...</th>\n",
       "      <td>...</td>\n",
       "      <td>...</td>\n",
       "      <td>...</td>\n",
       "      <td>...</td>\n",
       "      <td>...</td>\n",
       "      <td>...</td>\n",
       "      <td>...</td>\n",
       "      <td>...</td>\n",
       "    </tr>\n",
       "    <tr>\n",
       "      <th>108</th>\n",
       "      <td>how many sides does a pentagon have?</td>\n",
       "      <td>a pentagon has five sides.</td>\n",
       "      <td>NaN</td>\n",
       "      <td>NaN</td>\n",
       "      <td>NaN</td>\n",
       "      <td>How many sides does a pentagon have?</td>\n",
       "      <td>NaN</td>\n",
       "      <td>A pentagon has five sides.</td>\n",
       "    </tr>\n",
       "    <tr>\n",
       "      <th>109</th>\n",
       "      <td>what is the largest even number less than 10?</td>\n",
       "      <td>the largest even number less than 10 is 8.</td>\n",
       "      <td>NaN</td>\n",
       "      <td>NaN</td>\n",
       "      <td>NaN</td>\n",
       "      <td>What is the largest even number less than 10?</td>\n",
       "      <td>NaN</td>\n",
       "      <td>The largest even number less than 10 is 8.</td>\n",
       "    </tr>\n",
       "    <tr>\n",
       "      <th>110</th>\n",
       "      <td>what is the smallest prime number?</td>\n",
       "      <td>the smallest prime number is 2.</td>\n",
       "      <td>NaN</td>\n",
       "      <td>NaN</td>\n",
       "      <td>NaN</td>\n",
       "      <td>What is the smallest prime number?</td>\n",
       "      <td>NaN</td>\n",
       "      <td>The smallest prime number is 2.</td>\n",
       "    </tr>\n",
       "    <tr>\n",
       "      <th>111</th>\n",
       "      <td>how many sides does a square have?</td>\n",
       "      <td>a square has four equal sides.</td>\n",
       "      <td>NaN</td>\n",
       "      <td>NaN</td>\n",
       "      <td>NaN</td>\n",
       "      <td>How many sides does a square have?</td>\n",
       "      <td>NaN</td>\n",
       "      <td>A square has four equal sides.</td>\n",
       "    </tr>\n",
       "    <tr>\n",
       "      <th>112</th>\n",
       "      <td>what is a prime number</td>\n",
       "      <td>a prime number is a whole number greater than ...</td>\n",
       "      <td>NaN</td>\n",
       "      <td>NaN</td>\n",
       "      <td>NaN</td>\n",
       "      <td>what is a prime number</td>\n",
       "      <td>NaN</td>\n",
       "      <td>A prime number is a whole number greater than ...</td>\n",
       "    </tr>\n",
       "  </tbody>\n",
       "</table>\n",
       "<p>113 rows × 8 columns</p>\n",
       "</div>"
      ],
      "text/plain": [
       "                                              Question  \\\n",
       "0                   how do i add two numbers together?   \n",
       "1    what is the difference between addition and su...   \n",
       "2    what is the formula for finding the area of a ...   \n",
       "3              how do i convert fractions to decimals?   \n",
       "4    what are prime numbers and how do i identify t...   \n",
       "..                                                 ...   \n",
       "108               how many sides does a pentagon have?   \n",
       "109      what is the largest even number less than 10?   \n",
       "110                 what is the smallest prime number?   \n",
       "111                 how many sides does a square have?   \n",
       "112                             what is a prime number   \n",
       "\n",
       "                                                Answer  Unnamed: 2  \\\n",
       "0    to add two numbers together, you simply combin...         NaN   \n",
       "1    addition is the process of combining two or mo...         NaN   \n",
       "2    the formula for finding the area of a rectangl...         NaN   \n",
       "3    to convert a fraction to a decimal, divide the...         NaN   \n",
       "4    prime numbers are numbers greater than 1 that ...         NaN   \n",
       "..                                                 ...         ...   \n",
       "108                         a pentagon has five sides.         NaN   \n",
       "109         the largest even number less than 10 is 8.         NaN   \n",
       "110                    the smallest prime number is 2.         NaN   \n",
       "111                     a square has four equal sides.         NaN   \n",
       "112  a prime number is a whole number greater than ...         NaN   \n",
       "\n",
       "     Unnamed: 3  Unnamed: 4  \\\n",
       "0           NaN         NaN   \n",
       "1           NaN         NaN   \n",
       "2           NaN         NaN   \n",
       "3           NaN         NaN   \n",
       "4           NaN         NaN   \n",
       "..          ...         ...   \n",
       "108         NaN         NaN   \n",
       "109         NaN         NaN   \n",
       "110         NaN         NaN   \n",
       "111         NaN         NaN   \n",
       "112         NaN         NaN   \n",
       "\n",
       "                                            Unnamed: 5  Unnamed: 6  \\\n",
       "0                   How do I add two numbers together?         NaN   \n",
       "1    What is the difference between addition and su...         NaN   \n",
       "2    What is the formula for finding the area of a ...         NaN   \n",
       "3              How do I convert fractions to decimals?         NaN   \n",
       "4    What are prime numbers and how do I identify t...         NaN   \n",
       "..                                                 ...         ...   \n",
       "108               How many sides does a pentagon have?         NaN   \n",
       "109      What is the largest even number less than 10?         NaN   \n",
       "110                 What is the smallest prime number?         NaN   \n",
       "111                 How many sides does a square have?         NaN   \n",
       "112                             what is a prime number         NaN   \n",
       "\n",
       "                                            Unnamed: 7  \n",
       "0    To add two numbers together, you simply combin...  \n",
       "1    Addition is the process of combining two or mo...  \n",
       "2    The formula for finding the area of a rectangl...  \n",
       "3    To convert a fraction to a decimal, divide the...  \n",
       "4    Prime numbers are numbers greater than 1 that ...  \n",
       "..                                                 ...  \n",
       "108                         A pentagon has five sides.  \n",
       "109         The largest even number less than 10 is 8.  \n",
       "110                    The smallest prime number is 2.  \n",
       "111                     A square has four equal sides.  \n",
       "112  A prime number is a whole number greater than ...  \n",
       "\n",
       "[113 rows x 8 columns]"
      ]
     },
     "execution_count": 5,
     "metadata": {},
     "output_type": "execute_result"
    }
   ],
   "source": [
    "data"
   ]
  },
  {
   "cell_type": "code",
   "execution_count": 6,
   "id": "ce28be2e",
   "metadata": {},
   "outputs": [],
   "source": [
    "data = data.drop(columns=['Unnamed: 2','Unnamed: 3','Unnamed: 4','Unnamed: 5','Unnamed: 6','Unnamed: 7'])"
   ]
  },
  {
   "cell_type": "code",
   "execution_count": 8,
   "id": "f9f9ae17",
   "metadata": {},
   "outputs": [
    {
     "data": {
      "text/plain": [
       "<Axes: >"
      ]
     },
     "execution_count": 8,
     "metadata": {},
     "output_type": "execute_result"
    },
    {
     "data": {
      "image/png": "[encoded data removed]",
      "text/plain": [
       "<Figure size 640x480 with 1 Axes>"
      ]
     },
     "metadata": {},
     "output_type": "display_data"
    }
   ],
   "source": [
    "sns.heatmap(data.isnull(), yticklabels=False, cbar=False, cmap='viridis')"
   ]
  },
  {
   "cell_type": "code",
   "execution_count": 9,
   "id": "80c40828",
   "metadata": {},
   "outputs": [
    {
     "data": {
      "text/html": [
       "<div>\n",
       "<style scoped>\n",
       "    .dataframe tbody tr th:only-of-type {\n",
       "        vertical-align: middle;\n",
       "    }\n",
       "\n",
       "    .dataframe tbody tr th {\n",
       "        vertical-align: top;\n",
       "    }\n",
       "\n",
       "    .dataframe thead th {\n",
       "        text-align: right;\n",
       "    }\n",
       "</style>\n",
       "<table border=\"1\" class=\"dataframe\">\n",
       "  <thead>\n",
       "    <tr style=\"text-align: right;\">\n",
       "      <th></th>\n",
       "      <th>Question</th>\n",
       "      <th>Answer</th>\n",
       "    </tr>\n",
       "  </thead>\n",
       "  <tbody>\n",
       "    <tr>\n",
       "      <th>0</th>\n",
       "      <td>how do i add two numbers together?</td>\n",
       "      <td>to add two numbers together, you simply combin...</td>\n",
       "    </tr>\n",
       "    <tr>\n",
       "      <th>1</th>\n",
       "      <td>what is the difference between addition and su...</td>\n",
       "      <td>addition is the process of combining two or mo...</td>\n",
       "    </tr>\n",
       "    <tr>\n",
       "      <th>2</th>\n",
       "      <td>what is the formula for finding the area of a ...</td>\n",
       "      <td>the formula for finding the area of a rectangl...</td>\n",
       "    </tr>\n",
       "    <tr>\n",
       "      <th>3</th>\n",
       "      <td>how do i convert fractions to decimals?</td>\n",
       "      <td>to convert a fraction to a decimal, divide the...</td>\n",
       "    </tr>\n",
       "    <tr>\n",
       "      <th>4</th>\n",
       "      <td>what are prime numbers and how do i identify t...</td>\n",
       "      <td>prime numbers are numbers greater than 1 that ...</td>\n",
       "    </tr>\n",
       "  </tbody>\n",
       "</table>\n",
       "</div>"
      ],
      "text/plain": [
       "                                            Question  \\\n",
       "0                 how do i add two numbers together?   \n",
       "1  what is the difference between addition and su...   \n",
       "2  what is the formula for finding the area of a ...   \n",
       "3            how do i convert fractions to decimals?   \n",
       "4  what are prime numbers and how do i identify t...   \n",
       "\n",
       "                                              Answer  \n",
       "0  to add two numbers together, you simply combin...  \n",
       "1  addition is the process of combining two or mo...  \n",
       "2  the formula for finding the area of a rectangl...  \n",
       "3  to convert a fraction to a decimal, divide the...  \n",
       "4  prime numbers are numbers greater than 1 that ...  "
      ]
     },
     "execution_count": 9,
     "metadata": {},
     "output_type": "execute_result"
    }
   ],
   "source": [
    "data.head()"
   ]
  },
  {
   "cell_type": "code",
   "execution_count": 12,
   "id": "74d8c556",
   "metadata": {},
   "outputs": [
    {
     "name": "stdout",
     "output_type": "stream",
     "text": [
      "<class 'pandas.core.frame.DataFrame'>\n",
      "RangeIndex: 113 entries, 0 to 112\n",
      "Data columns (total 2 columns):\n",
      " #   Column    Non-Null Count  Dtype \n",
      "---  ------    --------------  ----- \n",
      " 0   Question  113 non-null    object\n",
      " 1   Answer    113 non-null    object\n",
      "dtypes: object(2)\n",
      "memory usage: 1.9+ KB\n"
     ]
    }
   ],
   "source": [
    "data.info()"
   ]
  },
  {
   "cell_type": "code",
   "execution_count": 13,
   "id": "2ba84f47",
   "metadata": {},
   "outputs": [
    {
     "data": {
      "text/plain": [
       "Index(['Question', 'Answer'], dtype='object')"
      ]
     },
     "execution_count": 13,
     "metadata": {},
     "output_type": "execute_result"
    }
   ],
   "source": [
    "data.columns"
   ]
  },
  {
   "cell_type": "code",
   "execution_count": 14,
   "id": "e38c39ce",
   "metadata": {},
   "outputs": [],
   "source": [
    "X = data.drop('Answer', axis=1)\n",
    "y = data['Answer']"
   ]
  },
  {
   "cell_type": "code",
   "execution_count": 15,
   "id": "45e5b2f3",
   "metadata": {},
   "outputs": [],
   "source": [
    "X_train, X_test, y_train, y_test = train_test_split(X, y, test_size = 0.3)"
   ]
  },
  {
   "cell_type": "code",
   "execution_count": 16,
   "id": "27612c5e",
   "metadata": {},
   "outputs": [
    {
     "data": {
      "text/plain": [
       "(                                             Question\n",
       " 22                     how many legs does a cat have?\n",
       " 89                               what is subtraction?\n",
       " 30                           how do i count by fives?\n",
       " 41  what is the difference between a numerator and...\n",
       " 49  how do i identify different shapes in the real...\n",
       " ..                                                ...\n",
       " 68            how do i find the perimeter of a shape?\n",
       " 56                           how do i count by fours?\n",
       " 40                how do i find the volume of a cube?\n",
       " 80         how do i subtract one number from another?\n",
       " 3             how do i convert fractions to decimals?\n",
       " \n",
       " [79 rows x 1 columns],\n",
       "                                               Question\n",
       " 7    what is the difference between odd and even nu...\n",
       " 19                           how do i draw a triangle?\n",
       " 111                 how many sides does a square have?\n",
       " 82              how do i divide one number by another?\n",
       " 94                              what is a number line?\n",
       " 32          how do i subtract one number from another?\n",
       " 42                     how do i read a graph or chart?\n",
       " 46           how do i measure the length of an object?\n",
       " 101                           how do i count by sixes?\n",
       " 97                  how many sides does a square have?\n",
       " 90                             what is multiplication?\n",
       " 100                          how do i count by threes?\n",
       " 43             how do i multiply two numbers together?\n",
       " 58                           how do i draw a triangle?\n",
       " 69                     what is the shape of a hexagon?\n",
       " 87                                 what is a fraction?\n",
       " 71                            what is the value of pi?\n",
       " 25             how do i multiply two numbers together?\n",
       " 36   what is the difference between a right angle a...\n",
       " 31                      how many legs does a cat have?\n",
       " 102                          how do i count by sevens?\n",
       " 65                    what is the shape of a triangle?\n",
       " 83                      what are odd and even numbers?\n",
       " 45   what is the difference between a square and a ...\n",
       " 109      what is the largest even number less than 10?\n",
       " 112                             what is a prime number\n",
       " 60                             how do i count by tens?\n",
       " 39   how do i add and subtract fractions with the s...\n",
       " 54          how do i subtract one number from another?\n",
       " 51           what is the pattern in a number sequence?\n",
       " 74   what is the difference between a square and a ...\n",
       " 99                             how do i count by twos?\n",
       " 48                  what is the value of zero in math?\n",
       " 73   how do i calculate the volume of a rectangular...,\n",
       " 22    a cat has 4 legs. just like how we have 2 legs...\n",
       " 89    subtraction is a mathematical operation where ...\n",
       " 30    to count by fives, we start with the number 5 ...\n",
       " 41    the numerator is the top number in a fraction ...\n",
       " 49    look around you! you can identify shapes in ev...\n",
       "                             ...                        \n",
       " 68    the perimeter of a shape is the total distance...\n",
       " 56    to count by fours, you start with the number 4...\n",
       " 40    the volume of a cube is the amount of space in...\n",
       " 80     subtraction is the process of taking one numb...\n",
       " 3     to convert a fraction to a decimal, divide the...\n",
       " Name: Answer, Length: 79, dtype: object,\n",
       " 7      odd numbers are numbers that cannot be divided...\n",
       " 19     to draw a triangle, start by drawing a straigh...\n",
       " 111                       a square has four equal sides.\n",
       " 82     division is the process of sharing or distribu...\n",
       " 94     a number line is a visual representation of nu...\n",
       " 32     to subtract one number from another, we start ...\n",
       " 42     graphs and charts are visual representations o...\n",
       " 46     to measure the length of an object, you can us...\n",
       " 101    to count by sixes, we start with the number 6 ...\n",
       " 97                              a square has four sides.\n",
       " 90     multiplication is a mathematical operation whe...\n",
       " 100    to count by threes, we start with the number 3...\n",
       " 43     multiplication is a way of adding multiple num...\n",
       " 58     to draw a triangle, you start by drawing a str...\n",
       " 69     a hexagon is a shape that has six sides and si...\n",
       " 87     a fraction represents a part of a whole or a n...\n",
       " 71     pi is a mathematical constant that represents ...\n",
       " 25     multiplying two numbers means adding a number ...\n",
       " 36     a right angle is an angle that measures exactl...\n",
       " 31                                  a cat has four legs.\n",
       " 102    to count by sevens, we start with the number 7...\n",
       " 65     a triangle is a shape that has three sides and...\n",
       " 83     odd numbers are numbers that cannot be divided...\n",
       " 45     both squares and rectangles are four-sided sha...\n",
       " 109           the largest even number less than 10 is 8.\n",
       " 112    a prime number is a whole number greater than ...\n",
       " 60     to count by tens, you start with the number 10...\n",
       " 39     to add or subtract fractions with the same den...\n",
       " 54     to subtract one number from another, you start...\n",
       " 51     a number sequence is a list of numbers that fo...\n",
       " 74     a square is a special type of rhombus where al...\n",
       " 99     to count by twos, we start with the number 2 a...\n",
       " 48     zero is a special number in math. it represent...\n",
       " 73     to find the volume of a rectangular prism, you...\n",
       " Name: Answer, dtype: object)"
      ]
     },
     "execution_count": 16,
     "metadata": {},
     "output_type": "execute_result"
    }
   ],
   "source": [
    "X_train, X_test, y_train, y_test"
   ]
  },
  {
   "cell_type": "code",
   "execution_count": 17,
   "id": "71153344",
   "metadata": {},
   "outputs": [],
   "source": [
    "from sklearn.feature_extraction.text import TfidfVectorizer\n",
    "tf = TfidfVectorizer()"
   ]
  },
  {
   "cell_type": "code",
   "execution_count": 18,
   "id": "216607b4",
   "metadata": {},
   "outputs": [],
   "source": [
    "text_clf = Pipeline([\n",
    "...     ('vect', CountVectorizer(analyzer=\"word\", stop_words=\"english\")),\n",
    "...     ('tfidf', TfidfTransformer(use_idf=True)),\n",
    "...     ('clf', MultinomialNB(alpha=.01)),\n",
    "... ])"
   ]
  },
  {
   "cell_type": "code",
   "execution_count": 19,
   "id": "6723ba3c",
   "metadata": {},
   "outputs": [
    {
     "data": {
      "text/html": [
       "<style>#sk-container-id-1 {color: black;background-color: white;}#sk-container-id-1 pre{padding: 0;}#sk-container-id-1 div.sk-toggleable {background-color: white;}#sk-container-id-1 label.sk-toggleable__label {cursor: pointer;display: block;width: 100%;margin-bottom: 0;padding: 0.3em;box-sizing: border-box;text-align: center;}#sk-container-id-1 label.sk-toggleable__label-arrow:before {content: \"▸\";float: left;margin-right: 0.25em;color: #696969;}#sk-container-id-1 label.sk-toggleable__label-arrow:hover:before {color: black;}#sk-container-id-1 div.sk-estimator:hover label.sk-toggleable__label-arrow:before {color: black;}#sk-container-id-1 div.sk-toggleable__content {max-height: 0;max-width: 0;overflow: hidden;text-align: left;background-color: #f0f8ff;}#sk-container-id-1 div.sk-toggleable__content pre {margin: 0.2em;color: black;border-radius: 0.25em;background-color: #f0f8ff;}#sk-container-id-1 input.sk-toggleable__control:checked~div.sk-toggleable__content {max-height: 200px;max-width: 100%;overflow: auto;}#sk-container-id-1 input.sk-toggleable__control:checked~label.sk-toggleable__label-arrow:before {content: \"▾\";}#sk-container-id-1 div.sk-estimator input.sk-toggleable__control:checked~label.sk-toggleable__label {background-color: #d4ebff;}#sk-container-id-1 div.sk-label input.sk-toggleable__control:checked~label.sk-toggleable__label {background-color: #d4ebff;}#sk-container-id-1 input.sk-hidden--visually {border: 0;clip: rect(1px 1px 1px 1px);clip: rect(1px, 1px, 1px, 1px);height: 1px;margin: -1px;overflow: hidden;padding: 0;position: absolute;width: 1px;}#sk-container-id-1 div.sk-estimator {font-family: monospace;background-color: #f0f8ff;border: 1px dotted black;border-radius: 0.25em;box-sizing: border-box;margin-bottom: 0.5em;}#sk-container-id-1 div.sk-estimator:hover {background-color: #d4ebff;}#sk-container-id-1 div.sk-parallel-item::after {content: \"\";width: 100%;border-bottom: 1px solid gray;flex-grow: 1;}#sk-container-id-1 div.sk-label:hover label.sk-toggleable__label {background-color: #d4ebff;}#sk-container-id-1 div.sk-serial::before {content: \"\";position: absolute;border-left: 1px solid gray;box-sizing: border-box;top: 0;bottom: 0;left: 50%;z-index: 0;}#sk-container-id-1 div.sk-serial {display: flex;flex-direction: column;align-items: center;background-color: white;padding-right: 0.2em;padding-left: 0.2em;position: relative;}#sk-container-id-1 div.sk-item {position: relative;z-index: 1;}#sk-container-id-1 div.sk-parallel {display: flex;align-items: stretch;justify-content: center;background-color: white;position: relative;}#sk-container-id-1 div.sk-item::before, #sk-container-id-1 div.sk-parallel-item::before {content: \"\";position: absolute;border-left: 1px solid gray;box-sizing: border-box;top: 0;bottom: 0;left: 50%;z-index: -1;}#sk-container-id-1 div.sk-parallel-item {display: flex;flex-direction: column;z-index: 1;position: relative;background-color: white;}#sk-container-id-1 div.sk-parallel-item:first-child::after {align-self: flex-end;width: 50%;}#sk-container-id-1 div.sk-parallel-item:last-child::after {align-self: flex-start;width: 50%;}#sk-container-id-1 div.sk-parallel-item:only-child::after {width: 0;}#sk-container-id-1 div.sk-dashed-wrapped {border: 1px dashed gray;margin: 0 0.4em 0.5em 0.4em;box-sizing: border-box;padding-bottom: 0.4em;background-color: white;}#sk-container-id-1 div.sk-label label {font-family: monospace;font-weight: bold;display: inline-block;line-height: 1.2em;}#sk-container-id-1 div.sk-label-container {text-align: center;}#sk-container-id-1 div.sk-container {/* jupyter's `normalize.less` sets `[hidden] { display: none; }` but bootstrap.min.css set `[hidden] { display: none !important; }` so we also need the `!important` here to be able to override the default hidden behavior on the sphinx rendered scikit-learn.org. See: https://github.com/scikit-learn/scikit-learn/issues/21755 */display: inline-block !important;position: relative;}#sk-container-id-1 div.sk-text-repr-fallback {display: none;}</style><div id=\"sk-container-id-1\" class=\"sk-top-container\"><div class=\"sk-text-repr-fallback\"><pre>Pipeline(steps=[(&#x27;vect&#x27;, CountVectorizer(stop_words=&#x27;english&#x27;)),\n",
       "                (&#x27;tfidf&#x27;, TfidfTransformer()),\n",
       "                (&#x27;clf&#x27;, MultinomialNB(alpha=0.01))])</pre><b>In a Jupyter environment, please rerun this cell to show the HTML representation or trust the notebook. <br />On GitHub, the HTML representation is unable to render, please try loading this page with nbviewer.org.</b></div><div class=\"sk-container\" hidden><div class=\"sk-item sk-dashed-wrapped\"><div class=\"sk-label-container\"><div class=\"sk-label sk-toggleable\"><input class=\"sk-toggleable__control sk-hidden--visually\" id=\"sk-estimator-id-1\" type=\"checkbox\" ><label for=\"sk-estimator-id-1\" class=\"sk-toggleable__label sk-toggleable__label-arrow\">Pipeline</label><div class=\"sk-toggleable__content\"><pre>Pipeline(steps=[(&#x27;vect&#x27;, CountVectorizer(stop_words=&#x27;english&#x27;)),\n",
       "                (&#x27;tfidf&#x27;, TfidfTransformer()),\n",
       "                (&#x27;clf&#x27;, MultinomialNB(alpha=0.01))])</pre></div></div></div><div class=\"sk-serial\"><div class=\"sk-item\"><div class=\"sk-estimator sk-toggleable\"><input class=\"sk-toggleable__control sk-hidden--visually\" id=\"sk-estimator-id-2\" type=\"checkbox\" ><label for=\"sk-estimator-id-2\" class=\"sk-toggleable__label sk-toggleable__label-arrow\">CountVectorizer</label><div class=\"sk-toggleable__content\"><pre>CountVectorizer(stop_words=&#x27;english&#x27;)</pre></div></div></div><div class=\"sk-item\"><div class=\"sk-estimator sk-toggleable\"><input class=\"sk-toggleable__control sk-hidden--visually\" id=\"sk-estimator-id-3\" type=\"checkbox\" ><label for=\"sk-estimator-id-3\" class=\"sk-toggleable__label sk-toggleable__label-arrow\">TfidfTransformer</label><div class=\"sk-toggleable__content\"><pre>TfidfTransformer()</pre></div></div></div><div class=\"sk-item\"><div class=\"sk-estimator sk-toggleable\"><input class=\"sk-toggleable__control sk-hidden--visually\" id=\"sk-estimator-id-4\" type=\"checkbox\" ><label for=\"sk-estimator-id-4\" class=\"sk-toggleable__label sk-toggleable__label-arrow\">MultinomialNB</label><div class=\"sk-toggleable__content\"><pre>MultinomialNB(alpha=0.01)</pre></div></div></div></div></div></div></div>"
      ],
      "text/plain": [
       "Pipeline(steps=[('vect', CountVectorizer(stop_words='english')),\n",
       "                ('tfidf', TfidfTransformer()),\n",
       "                ('clf', MultinomialNB(alpha=0.01))])"
      ]
     },
     "execution_count": 19,
     "metadata": {},
     "output_type": "execute_result"
    }
   ],
   "source": [
    "text_clf.fit(X_train['Question'].to_list(), list(y_train))"
   ]
  },
  {
   "cell_type": "code",
   "execution_count": 20,
   "id": "cdc78c23",
   "metadata": {},
   "outputs": [],
   "source": [
    "import numpy as np\n",
    "X_TEST = X_test['Question'].to_list()\n",
    "Y_TEST = list(y_test)"
   ]
  },
  {
   "cell_type": "code",
   "execution_count": 21,
   "id": "927f24dd",
   "metadata": {},
   "outputs": [],
   "source": [
    "predicted = text_clf.predict(X_TEST)"
   ]
  },
  {
   "cell_type": "code",
   "execution_count": 22,
   "id": "4503ffff",
   "metadata": {},
   "outputs": [
    {
     "name": "stdout",
     "output_type": "stream",
     "text": [
      "counting by fives means adding 5 each time. start with a number, like 0, and add 5 to it: 0, 5, 10, 15, 20, and so on. keep adding 5 to the previous number to continue counting.\n"
     ]
    }
   ],
   "source": [
    "test_data = ['how do i count by fives?']\n",
    "predicted = text_clf.predict(test_data)\n",
    "print(predicted[0])"
   ]
  },
  {
   "cell_type": "code",
   "execution_count": 23,
   "id": "fa6f5051",
   "metadata": {},
   "outputs": [],
   "source": [
    "import pickle\n",
    "pickle.dump(text_clf, open(\"chatbot_model.dat\", \"wb\"))"
   ]
  },
  {
   "cell_type": "code",
   "execution_count": 24,
   "id": "ed2a9352",
   "metadata": {},
   "outputs": [],
   "source": [
    "with open('chatbot_model.dat' , 'rb') as f:\n",
    "    model = pickle.load(f)"
   ]
  },
  {
   "cell_type": "code",
   "execution_count": 26,
   "id": "d888d682",
   "metadata": {},
   "outputs": [
    {
     "data": {
      "text/plain": [
       "array(['counting by fives means adding 5 each time. start with a number, like 0, and add 5 to it: 0, 5, 10, 15, 20, and so on. keep adding 5 to the previous number to continue counting.'],\n",
       "      dtype='<U473')"
      ]
     },
     "execution_count": 26,
     "metadata": {},
     "output_type": "execute_result"
    }
   ],
   "source": [
    "test_data = ['how do i count by fives?']\n",
    "model.predict(test_data)"
   ]
  },
  {
   "cell_type": "code",
   "execution_count": 29,
   "id": "d0cd4fa1",
   "metadata": {},
   "outputs": [],
   "source": [
    "#text_clf.score(X_TEST,Y_TEST)"
   ]
  },
  {
   "cell_type": "code",
   "execution_count": null,
   "id": "0fb04934",
   "metadata": {},
   "outputs": [],
   "source": []
  }
 ],
 "metadata": {
  "kernelspec": {
   "display_name": "Python 3",
   "language": "python",
   "name": "python3"
  },
  "language_info": {
   "codemirror_mode": {
    "name": "ipython",
    "version": 3
   },
   "file_extension": ".py",
   "mimetype": "text/x-python",
   "name": "python",
   "nbconvert_exporter": "python",
   "pygments_lexer": "ipython3",
   "version": "3.10.9"
  }
 },
 "nbformat": 4,
 "nbformat_minor": 5
}
